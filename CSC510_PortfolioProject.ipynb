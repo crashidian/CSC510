{
  "nbformat": 4,
  "nbformat_minor": 0,
  "metadata": {
    "colab": {
      "provenance": [],
      "authorship_tag": "ABX9TyMgD36NnRtYo0e+adiwq4xy",
      "include_colab_link": true
    },
    "kernelspec": {
      "name": "python3",
      "display_name": "Python 3"
    },
    "language_info": {
      "name": "python"
    }
  },
  "cells": [
    {
      "cell_type": "markdown",
      "metadata": {
        "id": "view-in-github",
        "colab_type": "text"
      },
      "source": [
        "<a href=\"https://colab.research.google.com/github/crashidian/CSC510/blob/main/CSC510_PortfolioProject.ipynb\" target=\"_parent\"><img src=\"https://colab.research.google.com/assets/colab-badge.svg\" alt=\"Open In Colab\"/></a>"
      ]
    },
    {
      "cell_type": "code",
      "execution_count": 7,
      "metadata": {
        "id": "PB0VsGz23w1g"
      },
      "outputs": [],
      "source": [
        "import spacy"
      ]
    },
    {
      "cell_type": "code",
      "source": [
        "# Load the pre-trained English language model\n",
        "nlp = spacy.load(\"en_core_web_sm\")"
      ],
      "metadata": {
        "id": "umVkyvsH334f"
      },
      "execution_count": 8,
      "outputs": []
    },
    {
      "cell_type": "code",
      "source": [
        "# Define a function to analyze the syntactic structure and apply empathy\n",
        "def apply_empathy(text):\n",
        "    doc = nlp(text)\n",
        "\n",
        "    # Analyze the syntactic structure\n",
        "    for token in doc:\n",
        "        if token.dep_ == \"nsubj\" and token.pos_ == \"PRON\" and token.text.lower() == \"i\":\n",
        "            # Replace \"I\" with \"You\" to show empathy\n",
        "            text = text.replace(token.text, \"You\", 1)\n",
        "        elif token.dep_ == \"dobj\" and token.pos_ == \"PRON\" and token.text.lower() == \"me\":\n",
        "            # Replace \"me\" with \"you\" to show empathy\n",
        "            text = text.replace(token.text, \"you\", 1)\n",
        "\n",
        "    return text"
      ],
      "metadata": {
        "id": "OknB_5Xi355A"
      },
      "execution_count": 9,
      "outputs": []
    },
    {
      "cell_type": "code",
      "source": [
        "# Define a function to generate a response based on user input\n",
        "def generate_response(user_input):\n",
        "    # Apply empathy to the user input\n",
        "    empathetic_input = apply_empathy(user_input)\n",
        "\n",
        "    # Generate a response based on the empathetic input\n",
        "    if \"feel\" in empathetic_input.lower():\n",
        "        response = \"I understand how you feel. Can you tell me more about it?\"\n",
        "    elif \"problem\" in empathetic_input.lower():\n",
        "        response = \"I'm sorry to hear that you're facing a problem. Let's work together to find a solution.\"\n",
        "    else:\n",
        "        response = \"I see. Can you provide more details about what you're experiencing?\"\n",
        "\n",
        "    return response"
      ],
      "metadata": {
        "id": "hnH69oZc4AGz"
      },
      "execution_count": 10,
      "outputs": []
    },
    {
      "cell_type": "code",
      "source": [
        "# Example usage\n",
        "while True:\n",
        "    user_input = input(\"User: \")\n",
        "    if user_input.lower() == \"quit\":\n",
        "        break\n",
        "\n",
        "    response = generate_response(user_input)\n",
        "    print(\"AI:\", response)"
      ],
      "metadata": {
        "colab": {
          "base_uri": "https://localhost:8080/"
        },
        "id": "EfHzpkSA4Cz2",
        "outputId": "fad244af-9fa1-4535-e247-d0015b8d4553"
      },
      "execution_count": null,
      "outputs": [
        {
          "output_type": "stream",
          "name": "stdout",
          "text": [
            "User: I feel very content today\n",
            "AI: I understand how you feel. Can you tell me more about it?\n",
            "User: Yes I can. Today I will accomplish a lot.\n",
            "AI: I see. Can you provide more details about what you're experiencing?\n",
            "User: No I can not because it has not happened yet.\n",
            "AI: I see. Can you provide more details about what you're experiencing?\n"
          ]
        }
      ]
    }
  ]
}