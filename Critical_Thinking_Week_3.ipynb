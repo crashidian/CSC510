{
  "nbformat": 4,
  "nbformat_minor": 0,
  "metadata": {
    "colab": {
      "provenance": [],
      "authorship_tag": "ABX9TyOcDk1nlJV1KVNBLAY/88gz",
      "include_colab_link": true
    },
    "kernelspec": {
      "name": "python3",
      "display_name": "Python 3"
    },
    "language_info": {
      "name": "python"
    }
  },
  "cells": [
    {
      "cell_type": "markdown",
      "metadata": {
        "id": "view-in-github",
        "colab_type": "text"
      },
      "source": [
        "<a href=\"https://colab.research.google.com/github/crashidian/CSC510/blob/main/Critical_Thinking_Week_3.ipynb\" target=\"_parent\"><img src=\"https://colab.research.google.com/assets/colab-badge.svg\" alt=\"Open In Colab\"/></a>"
      ]
    },
    {
      "cell_type": "code",
      "execution_count": null,
      "metadata": {
        "id": "BHEKpLXY3faG"
      },
      "outputs": [],
      "source": [
        "import numpy as np"
      ]
    },
    {
      "cell_type": "code",
      "source": [
        "# Sigmoid activation function\n",
        "def sigmoid(x):\n",
        "    return 1 / (1 + np.exp(-x))"
      ],
      "metadata": {
        "id": "sOrgWWMvBak1"
      },
      "execution_count": null,
      "outputs": []
    },
    {
      "cell_type": "code",
      "source": [
        "# Derivative of sigmoid function\n",
        "def sigmoid_derivative(x):\n",
        "    return x * (1 - x)"
      ],
      "metadata": {
        "id": "b4uhakjoBeoo"
      },
      "execution_count": null,
      "outputs": []
    },
    {
      "cell_type": "code",
      "source": [
        "# Input data (previous two numbers in the series)\n",
        "X = np.array([[0, 1], [1, 2], [2, 3], [3, 4], [4, 5]])"
      ],
      "metadata": {
        "id": "5zpqdy8CBf-K"
      },
      "execution_count": null,
      "outputs": []
    },
    {
      "cell_type": "code",
      "source": [
        "# Output data (next number in the series)\n",
        "y = np.array([[1], [2], [3], [4], [5]])"
      ],
      "metadata": {
        "id": "dn_UC7sRBhuK"
      },
      "execution_count": null,
      "outputs": []
    },
    {
      "cell_type": "code",
      "source": [
        "# Initialize weights and biases randomly\n",
        "hidden_weights = np.random.uniform(size=(2, 5))\n",
        "hidden_bias = np.random.uniform(size=(1, 5))\n",
        "output_weights = np.random.uniform(size=(5, 1))\n",
        "output_bias = np.random.uniform(size=(1, 1))"
      ],
      "metadata": {
        "id": "FV6xV4U9BjXE"
      },
      "execution_count": null,
      "outputs": []
    },
    {
      "cell_type": "code",
      "source": [
        "# Training loop\n",
        "epochs = 10000\n",
        "learning_rate = 0.1"
      ],
      "metadata": {
        "id": "kRzsKl77Blnc"
      },
      "execution_count": null,
      "outputs": []
    },
    {
      "cell_type": "code",
      "source": [
        "for _ in range(epochs):\n",
        "    # Feedforward\n",
        "    hidden_layer = sigmoid(np.dot(X, hidden_weights) + hidden_bias)\n",
        "    output_layer = np.dot(hidden_layer, output_weights) + output_bias\n",
        "\n",
        "    # Backpropagation\n",
        "    output_error = y - output_layer\n",
        "    output_delta = output_error\n",
        "\n",
        "    hidden_error = np.dot(output_delta, output_weights.T)\n",
        "    hidden_delta = hidden_error * sigmoid_derivative(hidden_layer)\n",
        "\n",
        "    # Update weights and biases\n",
        "    output_weights += learning_rate * np.dot(hidden_layer.T, output_delta)\n",
        "    output_bias += learning_rate * np.sum(output_delta, axis=0, keepdims=True)\n",
        "    hidden_weights += learning_rate * np.dot(X.T, hidden_delta)\n",
        "    hidden_bias += learning_rate * np.sum(hidden_delta, axis=0, keepdims=True)"
      ],
      "metadata": {
        "id": "Y50OVBXRBof-"
      },
      "execution_count": null,
      "outputs": []
    },
    {
      "cell_type": "code",
      "source": [
        "# Test the trained ANN\n",
        "test_input = np.array([[5, 6]])\n",
        "hidden_layer = sigmoid(np.dot(test_input, hidden_weights) + hidden_bias)\n",
        "predicted_output = np.dot(hidden_layer, output_weights) + output_bias\n",
        "print(\"Input: \", test_input)\n",
        "print(\"Predicted Output: \", predicted_output)"
      ],
      "metadata": {
        "colab": {
          "base_uri": "https://localhost:8080/"
        },
        "id": "5kuwsydHBqon",
        "outputId": "0152747b-77f5-4589-ed66-0416187cafb0"
      },
      "execution_count": null,
      "outputs": [
        {
          "output_type": "stream",
          "name": "stdout",
          "text": [
            "Input:  [[5 6]]\n",
            "Predicted Output:  [[5.56855539]]\n"
          ]
        }
      ]
    }
  ]
}