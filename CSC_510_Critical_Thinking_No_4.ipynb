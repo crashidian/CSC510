{
  "nbformat": 4,
  "nbformat_minor": 0,
  "metadata": {
    "colab": {
      "provenance": [],
      "authorship_tag": "ABX9TyNPfrDS9MGTdhGt6cugxD7t",
      "include_colab_link": true
    },
    "kernelspec": {
      "name": "python3",
      "display_name": "Python 3"
    },
    "language_info": {
      "name": "python"
    }
  },
  "cells": [
    {
      "cell_type": "markdown",
      "metadata": {
        "id": "view-in-github",
        "colab_type": "text"
      },
      "source": [
        "<a href=\"https://colab.research.google.com/github/crashidian/CSC510/blob/main/CSC_510_Critical_Thinking_No_4.ipynb\" target=\"_parent\"><img src=\"https://colab.research.google.com/assets/colab-badge.svg\" alt=\"Open In Colab\"/></a>"
      ]
    },
    {
      "cell_type": "code",
      "execution_count": 1,
      "metadata": {
        "id": "vnuAANabcxpj"
      },
      "outputs": [],
      "source": [
        "from collections import deque"
      ]
    },
    {
      "cell_type": "code",
      "source": [
        "class WarehouseState:\n",
        "    def __init__(self, grid, robot_pos, items_to_collect):\n",
        "        self.grid = grid\n",
        "        self.robot_pos = robot_pos\n",
        "        self.items_to_collect = items_to_collect\n",
        "\n",
        "    def is_goal(self):\n",
        "        return len(self.items_to_collect) == 0 and self.grid[self.robot_pos[0]][self.robot_pos[1]] == 'P'\n",
        "\n",
        "    def get_successors(self):\n",
        "        successors = []\n",
        "        x, y = self.robot_pos\n",
        "        directions = [(0, 1), (0, -1), (1, 0), (-1, 0)]\n",
        "\n",
        "        for dx, dy in directions:\n",
        "            new_x, new_y = x + dx, y + dy\n",
        "            if 0 <= new_x < len(self.grid) and 0 <= new_y < len(self.grid[0]):\n",
        "                if self.grid[new_x][new_y] != '#':\n",
        "                    new_items_to_collect = set(self.items_to_collect)\n",
        "                    if self.grid[new_x][new_y] in new_items_to_collect:\n",
        "                        new_items_to_collect.remove(self.grid[new_x][new_y])\n",
        "                    successors.append(WarehouseState(self.grid, (new_x, new_y), new_items_to_collect))\n",
        "\n",
        "        return successors\n",
        "\n",
        "    def heuristic(self):\n",
        "        if len(self.items_to_collect) == 0:\n",
        "            return manhattan_distance(self.robot_pos, find_packaging_area(self.grid))\n",
        "        else:\n",
        "            return min(manhattan_distance(self.robot_pos, find_item(self.grid, item)) for item in self.items_to_collect)\n"
      ],
      "metadata": {
        "id": "89sFS8uRdCGp"
      },
      "execution_count": 2,
      "outputs": []
    },
    {
      "cell_type": "code",
      "source": [
        "def find_item(grid, item):\n",
        "    for i in range(len(grid)):\n",
        "        for j in range(len(grid[0])):\n",
        "            if grid[i][j] == item:\n",
        "                return i, j\n",
        "    return None"
      ],
      "metadata": {
        "id": "hzntqeL5dGpY"
      },
      "execution_count": 3,
      "outputs": []
    },
    {
      "cell_type": "code",
      "source": [
        "def find_packaging_area(grid):\n",
        "    for i in range(len(grid)):\n",
        "        for j in range(len(grid[0])):\n",
        "            if grid[i][j] == 'P':\n",
        "                return i, j\n",
        "    return None"
      ],
      "metadata": {
        "id": "uz8_P622elDH"
      },
      "execution_count": 4,
      "outputs": []
    },
    {
      "cell_type": "code",
      "source": [
        "def manhattan_distance(pos1, pos2):\n",
        "    return abs(pos1[0] - pos2[0]) + abs(pos1[1] - pos2[1])"
      ],
      "metadata": {
        "id": "8-koRQ4XenJ1"
      },
      "execution_count": 5,
      "outputs": []
    },
    {
      "cell_type": "code",
      "source": [
        "def best_first_search(initial_state):\n",
        "    open_list = deque([(initial_state, [])])\n",
        "    closed_set = set()\n",
        "\n",
        "    while open_list:\n",
        "        current_state, path = open_list.popleft()\n",
        "        if current_state.is_goal():\n",
        "            return path + [current_state]\n",
        "        if tuple(current_state.robot_pos) not in closed_set:\n",
        "            closed_set.add(tuple(current_state.robot_pos))\n",
        "            successors = current_state.get_successors()\n",
        "            for successor in successors:\n",
        "                open_list.append((successor, path + [current_state]))\n",
        "            open_list = deque(sorted(open_list, key=lambda x: x[0].heuristic()))\n",
        "\n",
        "    return None"
      ],
      "metadata": {
        "id": "fm_fydzcep3a"
      },
      "execution_count": 6,
      "outputs": []
    },
    {
      "cell_type": "code",
      "source": [
        "# Example usage\n",
        "warehouse_grid = [\n",
        "    ['#', '#', '#', '#', '#'],\n",
        "    ['#', 'A', '.', 'B', '#'],\n",
        "    ['#', '.', '#', '.', '#'],\n",
        "    ['#', 'P', '.', 'C', '#'],\n",
        "    ['#', '#', '#', '#', '#']\n",
        "]\n",
        "\n",
        "initial_pos = (1, 1)\n",
        "items_to_collect = {'B', 'C'}\n",
        "initial_state = WarehouseState(warehouse_grid, initial_pos, items_to_collect)\n",
        "\n",
        "solution_path = best_first_search(initial_state)"
      ],
      "metadata": {
        "id": "crfbXt-mew6n"
      },
      "execution_count": 7,
      "outputs": []
    },
    {
      "cell_type": "code",
      "source": [
        "if solution_path:\n",
        "    print(\"Solution found:\")\n",
        "    for state in solution_path:\n",
        "        print(state.robot_pos, state.items_to_collect)\n",
        "else:\n",
        "    print(\"No solution found.\")"
      ],
      "metadata": {
        "colab": {
          "base_uri": "https://localhost:8080/"
        },
        "id": "rSiwfB0oe4Sf",
        "outputId": "eedba653-c953-4ae1-b45a-e5b5381d5a80"
      },
      "execution_count": 8,
      "outputs": [
        {
          "output_type": "stream",
          "name": "stdout",
          "text": [
            "Solution found:\n",
            "(1, 1) {'B', 'C'}\n",
            "(1, 2) {'B', 'C'}\n",
            "(1, 3) {'C'}\n",
            "(2, 3) {'C'}\n",
            "(3, 3) set()\n",
            "(3, 2) set()\n",
            "(3, 1) set()\n"
          ]
        }
      ]
    }
  ]
}